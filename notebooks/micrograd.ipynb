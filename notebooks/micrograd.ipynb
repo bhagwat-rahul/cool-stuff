{
 "cells": [
  {
   "cell_type": "code",
   "execution_count": 1,
   "id": "54a20cbc-9b0b-49ed-ba95-5282de387242",
   "metadata": {},
   "outputs": [],
   "source": [
    "import math\n",
    "import matplotlib as plt\n",
    "import numpy as np\n",
    "%matplotlib inline"
   ]
  },
  {
   "cell_type": "code",
   "execution_count": 4,
   "id": "029072a2-f428-44df-a970-8305a6fde460",
   "metadata": {},
   "outputs": [],
   "source": [
    "def f(x): \n",
    "    return 6*x**2 + 3* + 12"
   ]
  },
  {
   "cell_type": "code",
   "execution_count": 5,
   "id": "15d58dc0-10cc-418b-91f5-d7e2fa692986",
   "metadata": {},
   "outputs": [
    {
     "data": {
      "text/plain": [
       "90"
      ]
     },
     "execution_count": 5,
     "metadata": {},
     "output_type": "execute_result"
    }
   ],
   "source": [
    "f(3)"
   ]
  },
  {
   "cell_type": "code",
   "execution_count": 8,
   "id": "a04f88b7-ee7c-48a5-a180-9c245b46844d",
   "metadata": {},
   "outputs": [
    {
     "name": "stdout",
     "output_type": "stream",
     "text": [
      "2760.0000612437725\n"
     ]
    }
   ],
   "source": [
    "h = 0.00001\n",
    "x = 230\n",
    "dx= ((f(x+h) - f(x))/h)\n",
    "print(dx)"
   ]
  }
 ],
 "metadata": {
  "kernelspec": {
   "display_name": "Python 3 (ipykernel)",
   "language": "python",
   "name": "python3"
  },
  "language_info": {
   "codemirror_mode": {
    "name": "ipython",
    "version": 3
   },
   "file_extension": ".py",
   "mimetype": "text/x-python",
   "name": "python",
   "nbconvert_exporter": "python",
   "pygments_lexer": "ipython3",
   "version": "3.12.7"
  }
 },
 "nbformat": 4,
 "nbformat_minor": 5
}
